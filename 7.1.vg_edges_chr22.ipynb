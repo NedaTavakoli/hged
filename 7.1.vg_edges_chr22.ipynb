{
 "cells": [
  {
   "cell_type": "code",
   "execution_count": 212,
   "metadata": {},
   "outputs": [],
   "source": [
    "import os\n",
    "import subprocess\n",
    "import logging\n",
    "import tempfile\n",
    "import gzip\n",
    "import pipes"
   ]
  },
  {
   "cell_type": "code",
   "execution_count": 213,
   "metadata": {},
   "outputs": [],
   "source": [
    "# For chr 22\n",
    "start = 16050075\n",
    "end = 51244237   # last variant position for chr22\n",
    "num_vertice_linear_bc = 35780755\n",
    "num_alt_vertices = 71228\n",
    "Total_vertices = 35893981"
   ]
  },
  {
   "cell_type": "code",
   "execution_count": 214,
   "metadata": {},
   "outputs": [
    {
     "name": "stdout",
     "output_type": "stream",
     "text": [
      "35194163\n"
     ]
    }
   ],
   "source": [
    "end1 = end - start +1\n",
    "print(end1)\n",
    "index = start\n"
   ]
  },
  {
   "cell_type": "code",
   "execution_count": 215,
   "metadata": {},
   "outputs": [],
   "source": [
    "# get the variant position\n",
    "with open('results/variant_positions_snps_indels_chr22.txt', 'r') as f:\n",
    "    # removing the new line characters\n",
    "    variant_positions = [line.rstrip() for line in f]\n",
    "\n",
    "# Create variant position dictionary\n",
    "variant_positions_index = {k: v+1 for v, k in enumerate(variant_positions)}"
   ]
  },
  {
   "cell_type": "code",
   "execution_count": 216,
   "metadata": {},
   "outputs": [],
   "source": [
    "with open('results/chr22_snps_indel_POS_REF_ALT.txt', 'r') as f:\n",
    "    # removing the new line characters\n",
    "    vcf_data_list = [line.rstrip().split() for line in f]"
   ]
  },
  {
   "cell_type": "code",
   "execution_count": 217,
   "metadata": {},
   "outputs": [],
   "source": [
    "\"\"\"\n",
    "    convert vcf list to vcf dic\n",
    "\"\"\"\n",
    "# Convert list to dictionary\n",
    "keys = [vcf_data_list[i][0] for i in range(0,len(vcf_data_list))]\n",
    "vcf_data_dic ={ k:[] for k in keys }\n",
    "\n",
    "for i, item in enumerate(vcf_data_list):\n",
    "    k = keys[i]\n",
    "    vcf_data_dic[k].append((vcf_data_list[i][1], vcf_data_list[i][2]))\n"
   ]
  },
  {
   "cell_type": "code",
   "execution_count": 180,
   "metadata": {},
   "outputs": [],
   "source": [
    "# # Add edges accociated with the linear backbone\n",
    "# index = start\n",
    "# with open('chr22_edges.txt', 'w') as f:\n",
    "#     for i in range(1, end1):\n",
    "#         cmd ='samtools faidx linear_bc_chr22.fa 22:16050075-51244237:{}-{}| tail -1'.format(i,i)\n",
    "#         P1 = subprocess.run(cmd, capture_output=True, text=True, shell=True)\n",
    "#         # label = print(P1.returncode) # will show 0 if execution is successful\n",
    "#         edge = (index, index+1, P1.stdout.rstrip())\n",
    "#         # print(edge)\n",
    "#         index +=1\n",
    "#         f.write(f\"{edge}\\n\")\n",
    "\n"
   ]
  },
  {
   "cell_type": "code",
   "execution_count": 218,
   "metadata": {},
   "outputs": [],
   "source": [
    "# Add edges accociated with the linear backbone\n",
    "index = start\n",
    "with open('results/linear_bc_chr22_in_variant_range.fa', 'r') as f:\n",
    "\n",
    "   for line in f:\n",
    "      lines = f.read().rstrip()  # skip the first line\n",
    "        #lines = f.readlines()[1:]  # skip the first line\n",
    "    \n",
    "        \n",
    "label_list_bc =[]\n",
    "for label in lines:\n",
    "   if label !='\\n':\n",
    "      label_list_bc.append(label)\n",
    "\n",
    "\n"
   ]
  },
  {
   "cell_type": "code",
   "execution_count": 222,
   "metadata": {},
   "outputs": [],
   "source": [
    "# Add edges: linear backbone\n",
    "index = start\n",
    "with open('chr22_edges.txt', 'w') as f:\n",
    "    # for i in range(0, end1):\n",
    "    for i in range(0, 4000):\n",
    "        label = label_list_bc[i]\n",
    "\n",
    "        # get the variant index if it exists\n",
    "        if  variant_positions_index.__contains__(str(index)) ==1:\n",
    "\n",
    "            variant_index = variant_positions_index[str(index)]\n",
    "            edge = (str(index), str(index+1), label, str(variant_index))\n",
    "        else: # position is not a variant position\n",
    "            edge = (str(index), str(index+1), label, '-')\n",
    "        index +=1\n",
    "        f.write(edge[0]+' '+edge[1]+' '+edge[2]+' '+edge[3]+'\\n')"
   ]
  },
  {
   "cell_type": "code",
   "execution_count": 223,
   "metadata": {},
   "outputs": [],
   "source": [
    "# Add edges accociated with alternate paths\n",
    "new_v = num_vertice_linear_bc +1\n",
    "\n",
    "with open('chr22_edges_2.txt', 'w') as f:\n",
    "    for pos in variant_positions[0:1000]:\n",
    "        REF = vcf_data_dic[pos][0][0]\n",
    "        ALT = vcf_data_dic[pos][0][1]\n",
    "        variant_index = variant_positions_index[str(pos)]\n",
    "        # variant_index = [i+1 for i, t in enumerate(vcf_data_list) if t[0]== pos]\n",
    "\n",
    "        ref_len= int(len(str(REF)))\n",
    "        end_POS_bc= ref_len + int(pos)\n",
    "\n",
    "        # write outputs to file\n",
    "        if(int(len(str(ALT))) ==1):\n",
    "            edge = (str(pos), str(end_POS_bc), ALT, str(variant_index))\n",
    "            # edge = (str(pos), str(end_POS_bc), ALT, variant_index[0])\n",
    "            f.write(edge[0]+' '+edge[1]+' '+edge[2]+' '+edge[3]+'\\n')\n",
    "\n",
    "        if(int(len(str(ALT))) !=1):\n",
    "            ALT_elements = ALT.split(\",\")\n",
    "            for element in ALT_elements:\n",
    "\n",
    "                if(int(len(str(element)))==1):\n",
    "                    edge = (str(pos), str(end_POS_bc), element, str(variant_index))\n",
    "                    # edge = (str(pos), str(end_POS_bc), ALT, variant_index[0])\n",
    "                    f.write(edge[0]+' '+edge[1]+' '+edge[2]+' '+edge[3]+'\\n')\n",
    "                else:\n",
    "                    v = pos  \n",
    "                    for i, char in enumerate(element.rstrip()):\n",
    "                        if(i != len(element)-1):\n",
    "                            edge = (str(v), str(new_v), char, str(variant_index))\n",
    "                            # edge = (str(pos), str(end_POS_bc), ALT, variant_index[0])\n",
    "                            v = new_v\n",
    "                            new_v +=1\n",
    "                            f.write(edge[0]+' '+edge[1]+' '+edge[2]+' '+edge[3]+'\\n')\n",
    "                        else:  # the last element\n",
    "                            edge = (str(new_v), str(end_POS_bc), char, str(variant_index))\n",
    "                            # edge = (str(pos), str(end_POS_bc), ALT, variant_index[0])\n",
    "                            f.write(edge[0]+' '+edge[1]+' '+edge[2]+' '+edge[3]+'\\n')\n"
   ]
  },
  {
   "cell_type": "code",
   "execution_count": null,
   "metadata": {},
   "outputs": [],
   "source": [
    "# combine two files in a single file\n",
    "# combine two files in a single file\n",
    "# Combine two files together and keep them sorted\n",
    "\n",
    "\n",
    "# cat chr${id}_edges.txt chr${id}_edges_2.txt | sort > chr${id}_vg_edges.txt"
   ]
  }
 ],
 "metadata": {
  "kernelspec": {
   "display_name": "Python 3.9.13 ('base')",
   "language": "python",
   "name": "python3"
  },
  "language_info": {
   "codemirror_mode": {
    "name": "ipython",
    "version": 3
   },
   "file_extension": ".py",
   "mimetype": "text/x-python",
   "name": "python",
   "nbconvert_exporter": "python",
   "pygments_lexer": "ipython3",
   "version": "3.9.13"
  },
  "orig_nbformat": 4,
  "vscode": {
   "interpreter": {
    "hash": "f49203024d2eafa7a7dcce45ffb33acc158488cdedd46f4a3cb5c3d9c7d912f9"
   }
  }
 },
 "nbformat": 4,
 "nbformat_minor": 2
}
