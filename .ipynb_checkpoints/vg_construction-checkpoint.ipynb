{
 "cells": [
  {
   "cell_type": "code",
   "execution_count": 1,
   "metadata": {},
   "outputs": [
    {
     "ename": "ModuleNotFoundError",
     "evalue": "No module named 'gurobipy'",
     "output_type": "error",
     "traceback": [
      "\u001b[0;31m---------------------------------------------------------------------------\u001b[0m",
      "\u001b[0;31mModuleNotFoundError\u001b[0m                       Traceback (most recent call last)",
      "Cell \u001b[0;32mIn [1], line 1\u001b[0m\n\u001b[0;32m----> 1\u001b[0m \u001b[38;5;28;01mimport\u001b[39;00m \u001b[38;5;21;01mgurobipy\u001b[39;00m \u001b[38;5;28;01mas\u001b[39;00m \u001b[38;5;21;01mgp\u001b[39;00m  \u001b[38;5;66;03m# import the installed package\u001b[39;00m\n\u001b[1;32m      2\u001b[0m \u001b[38;5;28;01mimport\u001b[39;00m \u001b[38;5;21;01mnetworkx\u001b[39;00m \u001b[38;5;28;01mas\u001b[39;00m \u001b[38;5;21;01mnx\u001b[39;00m\n\u001b[1;32m      3\u001b[0m \u001b[38;5;28;01mimport\u001b[39;00m \u001b[38;5;21;01mnumpy\u001b[39;00m \u001b[38;5;28;01mas\u001b[39;00m \u001b[38;5;21;01mnp\u001b[39;00m\n",
      "\u001b[0;31mModuleNotFoundError\u001b[0m: No module named 'gurobipy'"
     ]
    }
   ],
   "source": [
    "import gurobipy as gp  # import the installed package\n",
    "import networkx as nx\n",
    "import numpy as np\n",
    "from gurobipy import *\n",
    "from gurobipy import GRB\n",
    "import numpy as np\n",
    "import os \n",
    "import scipy.sparse as sp\n",
    "import time\n",
    "import math\n",
    "import argparse\n",
    "import sys,os,subprocess\n",
    "import re\n",
    "\n",
    "import os\n",
    "import subprocess\n",
    "import logging\n",
    "import tempfile\n",
    "import gzip\n",
    "import pipes"
   ]
  },
  {
   "cell_type": "code",
   "execution_count": null,
   "metadata": {},
   "outputs": [
    {
     "name": "stdout",
     "output_type": "stream",
     "text": [
      "Looking in indexes: https://pypi.gurobi.com\n",
      "Collecting gurobipy\n",
      "  Using cached gurobipy-9.5.2-cp39-cp39-macosx_10_9_universal2.whl (8.6 MB)\n",
      "Installing collected packages: gurobipy\n",
      "Successfully installed gurobipy-9.5.2\n",
      "Requirement already satisfied: gurobipy in /Users/Amir/miniconda3/lib/python3.9/site-packages (9.5.2)\n",
      "Collecting networkx\n",
      "  Using cached networkx-2.8.6-py3-none-any.whl (2.0 MB)\n",
      "Installing collected packages: networkx\n",
      "Successfully installed networkx-2.8.6\n",
      "Collecting numpy\n",
      "  Using cached numpy-1.23.3-cp39-cp39-macosx_10_9_x86_64.whl (18.1 MB)\n",
      "Installing collected packages: numpy\n",
      "Successfully installed numpy-1.23.3\n",
      "Collecting scip\n",
      "  Downloading scip-0.1.11.post4-py3-none-any.whl (58 kB)\n",
      "\u001b[2K     \u001b[38;2;114;156;31m━━━━━━━━━━━━━━━━━━━━━━━━━━━━━━━━━━━━━━━\u001b[0m \u001b[32m58.2/58.2 kB\u001b[0m \u001b[31m394.6 kB/s\u001b[0m eta \u001b[36m0:00:00\u001b[0m kB/s\u001b[0m eta \u001b[36m0:00:01\u001b[0m:01\u001b[0m\n",
      "\u001b[?25hCollecting anndata\n",
      "  Downloading anndata-0.8.0-py3-none-any.whl (96 kB)\n",
      "\u001b[2K     \u001b[38;2;114;156;31m━━━━━━━━━━━━━━━━━━━━━━━━━━━━━━━━━━━━━━━\u001b[0m \u001b[32m96.1/96.1 kB\u001b[0m \u001b[31m338.7 kB/s\u001b[0m eta \u001b[36m0:00:00\u001b[0m kB/s\u001b[0m eta \u001b[36m0:00:01\u001b[0m01\u001b[0m\n",
      "\u001b[?25hCollecting click\n",
      "  Downloading click-8.1.3-py3-none-any.whl (96 kB)\n",
      "\u001b[2K     \u001b[38;2;114;156;31m━━━━━━━━━━━━━━━━━━━━━━━━━━━━━━━━━━━━━━━\u001b[0m \u001b[32m96.6/96.6 kB\u001b[0m \u001b[31m940.7 kB/s\u001b[0m eta \u001b[36m0:00:00\u001b[0m31m2.8 MB/s\u001b[0m eta \u001b[36m0:00:01\u001b[0m\n",
      "\u001b[?25hRequirement already satisfied: numpy in /Users/Amir/miniconda3/lib/python3.9/site-packages (from scip) (1.23.3)\n",
      "Collecting pyarrow\n",
      "  Downloading pyarrow-9.0.0-cp39-cp39-macosx_10_13_x86_64.whl (24.0 MB)\n",
      "\u001b[2K     \u001b[38;2;114;156;31m━━━━━━━━━━━━━━━━━━━━━━━━━━━━━━━━━━━━━━━━\u001b[0m \u001b[32m24.0/24.0 MB\u001b[0m \u001b[31m3.3 MB/s\u001b[0m eta \u001b[36m0:00:00\u001b[0mm eta \u001b[36m0:00:01\u001b[0m[36m0:00:01\u001b[0m\n",
      "\u001b[?25hCollecting dask[distributed]>=2022.01.1\n",
      "  Downloading dask-2022.9.1-py3-none-any.whl (1.1 MB)\n",
      "\u001b[2K     \u001b[38;2;114;156;31m━━━━━━━━━━━━━━━━━━━━━━━━━━━━━━━━━━━━━━━━\u001b[0m \u001b[32m1.1/1.1 MB\u001b[0m \u001b[31m3.9 MB/s\u001b[0m eta \u001b[36m0:00:00\u001b[0m[31m4.2 MB/s\u001b[0m eta \u001b[36m0:00:01\u001b[0m\n",
      "\u001b[?25hCollecting zarr\n",
      "  Downloading zarr-2.13.2-py3-none-any.whl (190 kB)\n",
      "\u001b[2K     \u001b[38;2;114;156;31m━━━━━━━━━━━━━━━━━━━━━━━━━━━━━━━━━━━━━━━\u001b[0m \u001b[32m190.1/190.1 kB\u001b[0m \u001b[31m2.1 MB/s\u001b[0m eta \u001b[36m0:00:00\u001b[0m[31m2.2 MB/s\u001b[0m eta \u001b[36m0:00:01\u001b[0m\n",
      "\u001b[?25hCollecting numba\n",
      "  Downloading numba-0.56.2-cp39-cp39-macosx_10_14_x86_64.whl (2.4 MB)\n",
      "\u001b[2K     \u001b[38;2;114;156;31m━━━━━━━━━━━━━━━━━━━━━━━━━━━━━━━━━━━━━━━━\u001b[0m \u001b[32m2.4/2.4 MB\u001b[0m \u001b[31m3.9 MB/s\u001b[0m eta \u001b[36m0:00:00\u001b[0m[36m0:00:01\u001b[0mm eta \u001b[36m0:00:01\u001b[0m\n",
      "\u001b[?25hCollecting scikit-image\n",
      "  Downloading scikit_image-0.19.3-cp39-cp39-macosx_10_13_x86_64.whl (13.3 MB)\n",
      "\u001b[2K     \u001b[38;2;114;156;31m━━━━━━━━━━━━━━━━━━━━━━━━━━━━━━━━━━━━━━━━\u001b[0m \u001b[32m13.3/13.3 MB\u001b[0m \u001b[31m1.9 MB/s\u001b[0m eta \u001b[36m0:00:00\u001b[0mm eta \u001b[36m0:00:01\u001b[0m[36m0:00:01\u001b[0m\n",
      "\u001b[?25hCollecting Pillow\n",
      "  Using cached Pillow-9.2.0-cp39-cp39-macosx_10_10_x86_64.whl (3.1 MB)\n",
      "Collecting graphviz\n",
      "  Downloading graphviz-0.20.1-py3-none-any.whl (47 kB)\n",
      "\u001b[2K     \u001b[38;2;114;156;31m━━━━━━━━━━━━━━━━━━━━━━━━━━━━━━━━━━━━━━━━\u001b[0m \u001b[32m47.0/47.0 kB\u001b[0m \u001b[31m1.8 MB/s\u001b[0m eta \u001b[36m0:00:00\u001b[0m\n",
      "\u001b[?25hCollecting pandas\n",
      "  Downloading pandas-1.5.0-cp39-cp39-macosx_10_9_x86_64.whl (12.1 MB)\n",
      "\u001b[2K     \u001b[38;2;114;156;31m━━━━━━━━━━━━━━━━━━━━━━━━━━━━━━━━━━━━━━━━\u001b[0m \u001b[32m12.1/12.1 MB\u001b[0m \u001b[31m3.6 MB/s\u001b[0m eta \u001b[36m0:00:00\u001b[0mm eta \u001b[36m0:00:01\u001b[0m[36m0:00:01\u001b[0m\n",
      "\u001b[?25hCollecting pyyaml\n",
      "  Downloading PyYAML-6.0-cp39-cp39-macosx_10_9_x86_64.whl (197 kB)\n",
      "\u001b[2K     \u001b[38;2;114;156;31m━━━━━━━━━━━━━━━━━━━━━━━━━━━━━━━━━━━━━━━\u001b[0m \u001b[32m197.6/197.6 kB\u001b[0m \u001b[31m2.2 MB/s\u001b[0m eta \u001b[36m0:00:00\u001b[0m[36m0:00:01\u001b[0mm eta \u001b[36m0:00:01\u001b[0m\n",
      "\u001b[?25hCollecting aicsimageio\n",
      "  Downloading aicsimageio-4.9.2-py2.py3-none-any.whl (119 kB)\n",
      "\u001b[2K     \u001b[38;2;114;156;31m━━━━━━━━━━━━━━━━━━━━━━━━━━━━━━━━━━━━━━━\u001b[0m \u001b[32m120.0/120.0 kB\u001b[0m \u001b[31m3.8 MB/s\u001b[0m eta \u001b[36m0:00:00\u001b[0m\n",
      "\u001b[?25hCollecting cloudpickle>=1.1.1\n",
      "  Downloading cloudpickle-2.2.0-py3-none-any.whl (25 kB)\n",
      "Requirement already satisfied: toolz>=0.8.2 in /Users/Amir/miniconda3/lib/python3.9/site-packages (from dask[distributed]>=2022.01.1->scip) (0.12.0)\n",
      "Collecting fsspec>=0.6.0\n",
      "  Downloading fsspec-2022.8.2-py3-none-any.whl (140 kB)\n",
      "\u001b[2K     \u001b[38;2;114;156;31m━━━━━━━━━━━━━━━━━━━━━━━━━━━━━━━━━━━━━━━\u001b[0m \u001b[32m140.8/140.8 kB\u001b[0m \u001b[31m3.3 MB/s\u001b[0m eta \u001b[36m0:00:00\u001b[0m MB/s\u001b[0m eta \u001b[36m0:00:01\u001b[0m\n",
      "\u001b[?25hRequirement already satisfied: packaging>=20.0 in /Users/Amir/miniconda3/lib/python3.9/site-packages (from dask[distributed]>=2022.01.1->scip) (21.3)\n",
      "Collecting partd>=0.3.10\n",
      "  Downloading partd-1.3.0-py3-none-any.whl (18 kB)\n",
      "Collecting distributed==2022.9.1\n",
      "  Downloading distributed-2022.9.1-py3-none-any.whl (903 kB)\n",
      "\u001b[2K     \u001b[38;2;114;156;31m━━━━━━━━━━━━━━━━━━━━━━━━━━━━━━━━━━━━━━━\u001b[0m \u001b[32m903.8/903.8 kB\u001b[0m \u001b[31m3.2 MB/s\u001b[0m eta \u001b[36m0:00:00\u001b[0m[31m3.4 MB/s\u001b[0m eta \u001b[36m0:00:01\u001b[0m\n",
      "\u001b[?25hCollecting sortedcontainers!=2.0.0,!=2.0.1\n",
      "  Downloading sortedcontainers-2.4.0-py2.py3-none-any.whl (29 kB)\n",
      "Requirement already satisfied: jinja2 in /Users/Amir/miniconda3/lib/python3.9/site-packages (from distributed==2022.9.1->dask[distributed]>=2022.01.1->scip) (3.1.2)\n",
      "Collecting tornado<6.2,>=6.0.3\n",
      "  Downloading tornado-6.1-cp39-cp39-macosx_10_9_x86_64.whl (416 kB)\n",
      "\u001b[2K     \u001b[38;2;114;156;31m━━━━━━━━━━━━━━━━━━━━━━━━━━━━━━━━━━━━━━━\u001b[0m \u001b[32m416.6/416.6 kB\u001b[0m \u001b[31m3.1 MB/s\u001b[0m eta \u001b[36m0:00:00\u001b[0m[31m3.7 MB/s\u001b[0m eta \u001b[36m0:00:01\u001b[0m\n",
      "\u001b[?25hCollecting msgpack>=0.6.0\n",
      "  Downloading msgpack-1.0.4-cp39-cp39-macosx_10_9_x86_64.whl (75 kB)\n",
      "\u001b[2K     \u001b[38;2;114;156;31m━━━━━━━━━━━━━━━━━━━━━━━━━━━━━━━━━━━━━━━━\u001b[0m \u001b[32m75.3/75.3 kB\u001b[0m \u001b[31m1.8 MB/s\u001b[0m eta \u001b[36m0:00:00\u001b[0m MB/s\u001b[0m eta \u001b[36m0:00:01\u001b[0m\n",
      "\u001b[?25hCollecting locket>=1.0.0\n",
      "  Downloading locket-1.0.0-py2.py3-none-any.whl (4.4 kB)\n",
      "Requirement already satisfied: psutil>=5.0 in /Users/Amir/miniconda3/lib/python3.9/site-packages (from distributed==2022.9.1->dask[distributed]>=2022.01.1->scip) (5.9.2)\n",
      "Collecting zict>=0.1.3\n",
      "  Downloading zict-2.2.0-py2.py3-none-any.whl (23 kB)\n",
      "Collecting tblib>=1.6.0\n",
      "  Downloading tblib-1.7.0-py2.py3-none-any.whl (12 kB)\n",
      "Requirement already satisfied: urllib3 in /Users/Amir/miniconda3/lib/python3.9/site-packages (from distributed==2022.9.1->dask[distributed]>=2022.01.1->scip) (1.26.11)\n",
      "Collecting xmlschema\n",
      "  Downloading xmlschema-2.1.0-py3-none-any.whl (354 kB)\n",
      "\u001b[2K     \u001b[38;2;114;156;31m━━━━━━━━━━━━━━━━━━━━━━━━━━━━━━━━━━━━━━\u001b[0m \u001b[32m354.4/354.4 kB\u001b[0m \u001b[31m65.3 kB/s\u001b[0m eta \u001b[36m0:00:00\u001b[0m[36m0:00:01\u001b[0m[36m0:00:01\u001b[0m:02\u001b[0m\n",
      "\u001b[?25hCollecting ome-types>=0.2\n",
      "  Downloading ome_types-0.3.1-py3-none-any.whl (142 kB)\n",
      "\u001b[2K     \u001b[38;2;114;156;31m━━━━━━━━━━━━━━━━━━━━━━━━━━━━━━━━━━━━━\u001b[0m \u001b[32m142.3/142.3 kB\u001b[0m \u001b[31m266.1 kB/s\u001b[0m eta \u001b[36m0:00:00\u001b[0m1m254.6 kB/s\u001b[0m eta \u001b[36m0:00:01\u001b[0m\n",
      "\u001b[?25hCollecting xarray>=0.16.1\n",
      "  Downloading xarray-2022.6.0-py3-none-any.whl (927 kB)\n",
      "\u001b[2K     \u001b[38;2;114;156;31m━━━━━━━━━━━━━━━━━━━━━━━━━━━━━━━━━━━━━\u001b[0m \u001b[32m927.2/927.2 kB\u001b[0m \u001b[31m449.1 kB/s\u001b[0m eta \u001b[36m0:00:00\u001b[0mm eta \u001b[36m0:00:01\u001b[0m[36m0:00:01\u001b[0m\n",
      "\u001b[?25hCollecting resource-backed-dask-array>=0.1.0\n",
      "  Downloading resource_backed_dask_array-0.1.0-py2.py3-none-any.whl (8.0 kB)\n",
      "Collecting imagecodecs>=2020.5.30\n",
      "  Downloading imagecodecs-2022.9.26-cp39-cp39-macosx_10_9_x86_64.whl (12.9 MB)\n",
      "\u001b[2K     \u001b[38;2;114;156;31m━━━━━━━━━━━━━━━━━━━━━━━━━━━━━━━━━━━━━━━━\u001b[0m \u001b[32m12.9/12.9 MB\u001b[0m \u001b[31m1.3 MB/s\u001b[0m eta \u001b[36m0:00:00\u001b[0mm eta \u001b[36m0:00:01\u001b[0m[36m0:00:01\u001b[0mm\n",
      "\u001b[?25hRequirement already satisfied: lxml<5,>=4.6 in /Users/Amir/miniconda3/lib/python3.9/site-packages (from aicsimageio->scip) (4.9.1)\n",
      "Collecting wrapt>=1.12\n",
      "  Downloading wrapt-1.14.1-cp39-cp39-macosx_10_9_x86_64.whl (35 kB)\n",
      "Collecting tifffile>=2021.8.30\n",
      "  Downloading tifffile-2022.8.12-py3-none-any.whl (208 kB)\n",
      "\u001b[2K     \u001b[38;2;114;156;31m━━━━━━━━━━━━━━━━━━━━━━━━━━━━━━━━━━━━━━━\u001b[0m \u001b[32m208.5/208.5 kB\u001b[0m \u001b[31m1.9 MB/s\u001b[0m eta \u001b[36m0:00:00\u001b[0m[31m3.1 MB/s\u001b[0m eta \u001b[36m0:00:01\u001b[0m\n",
      "\u001b[?25hCollecting asciitree\n",
      "  Downloading asciitree-0.3.3.tar.gz (4.0 kB)\n",
      "  Preparing metadata (setup.py) ... \u001b[?25ldone\n",
      "\u001b[?25hCollecting fasteners\n",
      "  Downloading fasteners-0.18-py3-none-any.whl (18 kB)\n",
      "Collecting numcodecs>=0.10.0\n",
      "  Downloading numcodecs-0.10.2-cp39-cp39-macosx_10_9_x86_64.whl (1.4 MB)\n"
     ]
    },
    {
     "name": "stdout",
     "output_type": "stream",
     "text": [
      "\u001b[2K     \u001b[38;2;114;156;31m━━━━━━━━━━━━━━━━━━━━━━━━━━━━━━━━━━━━━━━━\u001b[0m \u001b[32m1.4/1.4 MB\u001b[0m \u001b[31m1.5 MB/s\u001b[0m eta \u001b[36m0:00:00\u001b[0mm eta \u001b[36m0:00:01\u001b[0m0:01\u001b[0m:01\u001b[0m\n",
      "\u001b[?25hCollecting natsort\n",
      "  Downloading natsort-8.2.0-py3-none-any.whl (37 kB)\n",
      "Collecting scipy>1.4\n",
      "  Using cached scipy-1.9.1-cp39-cp39-macosx_12_0_universal2.macosx_10_9_x86_64.whl (58.4 MB)\n",
      "Collecting h5py>=3\n",
      "  Downloading h5py-3.7.0-cp39-cp39-macosx_10_9_x86_64.whl (3.2 MB)\n",
      "\u001b[2K     \u001b[38;2;114;156;31m━━━━━━━━━━━━━━━━━━━━━━━━━━━━━━━━━━━━━━━━\u001b[0m \u001b[32m3.2/3.2 MB\u001b[0m \u001b[31m2.7 MB/s\u001b[0m eta \u001b[36m0:00:00\u001b[0mm eta \u001b[36m0:00:01\u001b[0m0:01\u001b[0m:01\u001b[0m\n",
      "\u001b[?25hCollecting pytz>=2020.1\n",
      "  Downloading pytz-2022.2.1-py2.py3-none-any.whl (500 kB)\n",
      "\u001b[2K     \u001b[38;2;114;156;31m━━━━━━━━━━━━━━━━━━━━━━━━━━━━━━━━━━━━━━━\u001b[0m \u001b[32m500.6/500.6 kB\u001b[0m \u001b[31m1.1 MB/s\u001b[0m eta \u001b[36m0:00:00\u001b[0m MB/s\u001b[0m eta \u001b[36m0:00:01\u001b[0m:01\u001b[0m\n",
      "\u001b[?25hRequirement already satisfied: python-dateutil>=2.8.1 in /Users/Amir/miniconda3/lib/python3.9/site-packages (from pandas->scip) (2.8.2)\n",
      "Collecting setuptools<60\n",
      "  Downloading setuptools-59.8.0-py3-none-any.whl (952 kB)\n",
      "\u001b[2K     \u001b[38;2;114;156;31m━━━━━━━━━━━━━━━━━━━━━━━━━━━━━━━━━━━━━━━\u001b[0m \u001b[32m952.8/952.8 kB\u001b[0m \u001b[31m1.1 MB/s\u001b[0m eta \u001b[36m0:00:00\u001b[0mm eta \u001b[36m0:00:01\u001b[0m0:01\u001b[0m:01\u001b[0m\n",
      "\u001b[?25hCollecting llvmlite<0.40,>=0.39.0dev0\n",
      "  Downloading llvmlite-0.39.1-cp39-cp39-macosx_10_9_x86_64.whl (25.5 MB)\n",
      "\u001b[2K     \u001b[38;2;249;38;114m━━━━━━━━\u001b[0m\u001b[38;5;237m╺\u001b[0m\u001b[38;5;237m━━━━━━━━━━━━━━━━━━━━━━━━━━━━━━━\u001b[0m \u001b[32m5.2/25.5 MB\u001b[0m \u001b[31m2.1 MB/s\u001b[0m eta \u001b[36m0:00:10\u001b[0m:11\u001b[0m"
     ]
    }
   ],
   "source": [
    "!python3 -m pip install -i https://pypi.gurobi.com gurobipy\n",
    "!pip3 install gurobipy  # install gurobipy, if not already installed\n",
    "!pip3 install networkx\n",
    "!pip3 install numpy\n",
    "!pip3 install scip"
   ]
  },
  {
   "cell_type": "code",
   "execution_count": 96,
   "metadata": {},
   "outputs": [],
   "source": [
    "# For chr 22\n",
    "start = 16050075\n",
    "end = 51244237\n",
    "num_vertice_linear_bc = 35780755\n",
    "num_alt_vertices = 113226\n",
    "Total_vertices = 35893981"
   ]
  },
  {
   "cell_type": "code",
   "execution_count": 97,
   "metadata": {},
   "outputs": [
    {
     "name": "stdout",
     "output_type": "stream",
     "text": [
      "35194163\n"
     ]
    }
   ],
   "source": [
    "end1 = end - start +1\n",
    "print(end1)\n",
    "index = start\n"
   ]
  },
  {
   "cell_type": "code",
   "execution_count": 111,
   "metadata": {},
   "outputs": [],
   "source": [
    "### NOT yet: You might ignore it\n",
    "\n",
    "with open('results/variant_positions_snps_indels_chr22.txt', 'r') as f:\n",
    "    # removing the new line characters\n",
    "    variant_positions = [line.rstrip() for line in f]\n"
   ]
  },
  {
   "cell_type": "code",
   "execution_count": 100,
   "metadata": {},
   "outputs": [
    {
     "name": "stdout",
     "output_type": "stream",
     "text": [
      "16050075\n"
     ]
    }
   ],
   "source": [
    "print( variant_positions[0])\n"
   ]
  },
  {
   "cell_type": "code",
   "execution_count": 98,
   "metadata": {},
   "outputs": [],
   "source": [
    "with open('results/chr22_snps_indel_POS_REF_ALT.txt', 'r') as f:\n",
    "    # removing the new line characters\n",
    "    vcf_data_list = [line.rstrip().split() for line in f]"
   ]
  },
  {
   "cell_type": "code",
   "execution_count": 101,
   "metadata": {},
   "outputs": [
    {
     "name": "stdout",
     "output_type": "stream",
     "text": [
      "['16051453', 'A', 'C,G']\n",
      "16051453\n",
      "A\n",
      "C,G\n"
     ]
    }
   ],
   "source": [
    "print(vcf_data_list[36])\n",
    "print(vcf_data_list[36][0])\n",
    "print(vcf_data_list[36][1])\n",
    "print(vcf_data_list[36][2])"
   ]
  },
  {
   "cell_type": "code",
   "execution_count": 110,
   "metadata": {},
   "outputs": [
    {
     "name": "stdout",
     "output_type": "stream",
     "text": [
      "['16050075', 'A', 'G']\n",
      "1102765\n"
     ]
    }
   ],
   "source": [
    "\"\"\"\n",
    "    convert vcf list to vcf dic\n",
    "\"\"\"\n",
    "print(vcf_data_list[0])\n",
    "print(len(vcf_data_list))\n",
    "# Convert list to dictionary\n",
    "keys = [vcf_data_list[i][0] for i in range(0,len(vcf_data_list))]\n",
    "vcf_data_dic ={ k:[] for k in keys }\n",
    "\n",
    "for i, item in enumerate(vcf_data_list):\n",
    "    k = keys[i]\n",
    "    vcf_data_dic[k].append((vcf_data_list[i][1], vcf_data_list[i][2]))\n",
    "\n",
    "# print(vcf_data_dic[k][0])\n",
    "# # ('C', 'T')\n",
    "\n",
    "# print(vcf_data_dic[k][0][1])\n",
    "# # T\n",
    "\n",
    "# print(vcf_data_dic[k][0][0])\n",
    "# # C\n"
   ]
  },
  {
   "cell_type": "code",
   "execution_count": 113,
   "metadata": {},
   "outputs": [],
   "source": [
    "# https://github.com/Illumina/hap.py/blob/master/src/python/Tools/bcftools.py\n",
    "\n",
    "def runShellCommand(*args):\n",
    "    \"\"\" Run a shell command (e.g. bcf tools), and return output\n",
    "    \"\"\"\n",
    "    qargs = []\n",
    "    for a in args:\n",
    "        if a.strip() != \"|\":\n",
    "            qargs.append(pipes.quote(a))\n",
    "        else:\n",
    "            qargs.append(\"|\")\n",
    "\n",
    "    cmd_line = \" \".join(qargs)\n",
    "    logging.info(cmd_line)\n",
    "\n",
    "    po = subprocess.Popen(cmd_line,\n",
    "                          shell=True,\n",
    "                          stdout=subprocess.PIPE,\n",
    "                          stderr=subprocess.PIPE)\n",
    "\n",
    "    stdout, stderr = po.communicate()\n",
    "\n",
    "    po.wait()\n",
    "\n",
    "    return_code = po.returncode\n",
    "\n",
    "    if return_code != 0:\n",
    "        raise Exception(\"Command line {} got return code {}.\\nSTDOUT: {}\\nSTDERR: {}\".format(cmd_line, return_code, stdout, stderr))\n",
    "\n",
    "    return stdout\n",
    "\n",
    "\n",
    "def runBcftools(*args):\n",
    "    \"\"\"\n",
    "    Wraps runShellCommand for compatibility.\n",
    "    :param args:\n",
    "    :return:\n",
    "    \"\"\"\n",
    "    return runShellCommand('bcftools', *args)\n",
    "\n",
    "\n",
    "def runSamtools(*args):\n",
    "    \"\"\"\n",
    "    Wraps runShellCommand for compatibility.\n",
    "    :param args:\n",
    "    :return:\n",
    "    \"\"\"\n",
    "    return runShellCommand('samtools', *args)    "
   ]
  },
  {
   "cell_type": "code",
   "execution_count": null,
   "metadata": {},
   "outputs": [],
   "source": [
    "args = [\"samtools\", \"faidx\", linear_bc_chr22.fa, str(num_threads), \"-O\", \"v\", input_filename, \"|\" ]"
   ]
  },
  {
   "cell_type": "code",
   "execution_count": 117,
   "metadata": {},
   "outputs": [
    {
     "ename": "NameError",
     "evalue": "name 'linear_bc_chr22' is not defined",
     "output_type": "error",
     "traceback": [
      "\u001b[0;31m---------------------------------------------------------------------------\u001b[0m",
      "\u001b[0;31mNameError\u001b[0m                                 Traceback (most recent call last)",
      "Cell \u001b[0;32mIn [117], line 1\u001b[0m\n\u001b[0;32m----> 1\u001b[0m runShellCommand(\u001b[38;5;124m'\u001b[39m\u001b[38;5;124msamtools\u001b[39m\u001b[38;5;124m'\u001b[39m, \u001b[38;5;124m\"\u001b[39m\u001b[38;5;124mfaidx\u001b[39m\u001b[38;5;124m\"\u001b[39m, \u001b[43mlinear_bc_chr22\u001b[49m\u001b[38;5;241m.\u001b[39mfa, \u001b[38;5;124m'\u001b[39m\u001b[38;5;124m22:16050075-51244237:1-1\u001b[39m\u001b[38;5;124m'\u001b[39m )\n\u001b[1;32m      2\u001b[0m start \u001b[38;5;241m=\u001b[39m \u001b[38;5;241m16050075\u001b[39m\n\u001b[1;32m      3\u001b[0m end \u001b[38;5;241m=\u001b[39m \u001b[38;5;241m51244237\u001b[39m\n",
      "\u001b[0;31mNameError\u001b[0m: name 'linear_bc_chr22' is not defined"
     ]
    }
   ],
   "source": [
    "runShellCommand('samtools', \"faidx\", linear_bc_chr22.fa, '22:16050075-51244237:1-1' )\n",
    "start = 16050075\n",
    "end = 51244237"
   ]
  },
  {
   "cell_type": "code",
   "execution_count": null,
   "metadata": {},
   "outputs": [],
   "source": [
    "# Add edges accociated with the linear backbone\n",
    "index = start\n",
    "for i in range(1, end1):\n",
    "    # get the character for that specific range\n",
    "    cmd = 'samtools faidx linear_bc_chr22.fa  22:start-end:i-i | tail -1'\n",
    "\n",
    "    edge = (index, index+1, cmd)\n",
    "    index +=1\n",
    "    f.write(f\"{edge}\\n\")\n",
    "\n"
   ]
  },
  {
   "cell_type": "code",
   "execution_count": 112,
   "metadata": {},
   "outputs": [],
   "source": [
    "# Add edges accociated with alternate paths\n",
    "new_v = num_vertice_linear_bc +1\n",
    "\n",
    "with open('chr22_edges.txt', 'w') as f:\n",
    "    for pos in variant_positions[0:1700]:\n",
    "        REF = vcf_data_dic[pos][0][0]\n",
    "        ALT = vcf_data_dic[pos][0][1]\n",
    "\n",
    "        ref_len= int(len(str(REF)))\n",
    "        end_POS_bc= ref_len + int(pos)\n",
    "\n",
    "        # write outputs to file\n",
    "        if(int(len(str(ALT))) ==1):\n",
    "            edge = (pos, end_POS_bc, ALT)\n",
    "            f.write(f\"{edge}\\n\")\n",
    "\n",
    "        if(int(len(str(ALT))) !=1):\n",
    "            for element in ALT:\n",
    "                if(int(len(str(element))) ==1 and element !=','):\n",
    "                    edge = (pos, end_POS_bc, element)\n",
    "                    f.write(f\"{edge}\\n\")\n",
    "                if(int(len(str(element))) !=1):  \n",
    "                    v = pos  \n",
    "                    for i, char in enumerate(element):\n",
    "                        if(i != len(element)-1):\n",
    "                            edge = (v, new_v, char)\n",
    "                            v = new_v\n",
    "                            new_v +=1\n",
    "                            f.write(f\"{edge}\\n\")\n",
    "                        else:\n",
    "                            edge = (new_v, end_POS_bc, char)\n",
    "                            f.write(f\"{edge}\\n\")"
   ]
  }
 ],
 "metadata": {
  "kernelspec": {
   "display_name": "Python 3 (ipykernel)",
   "language": "python",
   "name": "python3"
  },
  "language_info": {
   "codemirror_mode": {
    "name": "ipython",
    "version": 3
   },
   "file_extension": ".py",
   "mimetype": "text/x-python",
   "name": "python",
   "nbconvert_exporter": "python",
   "pygments_lexer": "ipython3",
   "version": "3.9.13"
  },
  "vscode": {
   "interpreter": {
    "hash": "31f2aee4e71d21fbe5cf8b01ff0e069b9275f58929596ceb00d14d90e3e16cd6"
   }
  }
 },
 "nbformat": 4,
 "nbformat_minor": 2
}
