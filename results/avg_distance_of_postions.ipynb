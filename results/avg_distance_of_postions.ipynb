{
 "cells": [
  {
   "cell_type": "code",
   "execution_count": 7,
   "metadata": {},
   "outputs": [],
   "source": [
    "# https://stackoverflow.com/questions/64628539/problems-install-numpy-on-visual-studio-code-with-jupyter\n",
    "import numpy as np"
   ]
  },
  {
   "cell_type": "code",
   "execution_count": 8,
   "metadata": {},
   "outputs": [],
   "source": [
    "def diff_consecutive_nums(nums):\n",
    "    result = [b-a for a, b in zip(nums[:-1], nums[1:])]\n",
    "    return result"
   ]
  },
  {
   "cell_type": "code",
   "execution_count": 21,
   "metadata": {},
   "outputs": [],
   "source": [
    "#  Change your file according to the need\n",
    "txt_file = open(\"variant_positions_snps_indels_chr6.txt\", \"r\")\n",
    "file_content = txt_file.read().split()\n",
    "test_list = [int(i) for i in file_content]\n",
    "# print(\"The file content are: \", test_list)"
   ]
  },
  {
   "cell_type": "code",
   "execution_count": 22,
   "metadata": {},
   "outputs": [
    {
     "name": "stdout",
     "output_type": "stream",
     "text": [
      "Difference between consecutive numbers of the said list:\n"
     ]
    }
   ],
   "source": [
    "print(\"Difference between consecutive numbers of the said list:\")\n",
    "dif=diff_consecutive_nums(test_list)\n",
    "# print(diff_consecutive_nums(test_list))"
   ]
  },
  {
   "cell_type": "code",
   "execution_count": 23,
   "metadata": {},
   "outputs": [
    {
     "name": "stdout",
     "output_type": "stream",
     "text": [
      "33.865670834220694\n"
     ]
    }
   ],
   "source": [
    "print(np.mean(dif))"
   ]
  }
 ],
 "metadata": {
  "kernelspec": {
   "display_name": "Python 3.8.9 64-bit",
   "language": "python",
   "name": "python3"
  },
  "language_info": {
   "codemirror_mode": {
    "name": "ipython",
    "version": 3
   },
   "file_extension": ".py",
   "mimetype": "text/x-python",
   "name": "python",
   "nbconvert_exporter": "python",
   "pygments_lexer": "ipython3",
   "version": "3.8.9"
  },
  "orig_nbformat": 4,
  "vscode": {
   "interpreter": {
    "hash": "31f2aee4e71d21fbe5cf8b01ff0e069b9275f58929596ceb00d14d90e3e16cd6"
   }
  }
 },
 "nbformat": 4,
 "nbformat_minor": 2
}
